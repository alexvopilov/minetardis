{
 "cells": [
  {
   "cell_type": "code",
   "execution_count": 19,
   "metadata": {
    "ExecuteTime": {
     "end_time": "2021-01-06T23:50:27.681233Z",
     "start_time": "2021-01-06T23:50:23.916860Z"
    }
   },
   "outputs": [
    {
     "name": "stdout",
     "output_type": "stream",
     "text": [
      "Requirement already satisfied: mcpi in /home/tardis/anaconda3/lib/python3.7/site-packages (1.2.0)\n",
      "Collecting picraft\n",
      "  Downloading picraft-1.0.tar.gz (64 kB)\n",
      "\u001b[K     |████████████████████████████████| 64 kB 553 kB/s  eta 0:00:01\n",
      "\u001b[?25hBuilding wheels for collected packages: picraft\n",
      "  Building wheel for picraft (setup.py) ... \u001b[?25ldone\n",
      "\u001b[?25h  Created wheel for picraft: filename=picraft-1.0-py3-none-any.whl size=75856 sha256=621a993e797f74e00852b0dd541acddb518440c33954a3f12bf3762f98619077\n",
      "  Stored in directory: /home/tardis/.cache/pip/wheels/62/3d/47/1991acdd2e17b41d3e2506309c568a470848c2f04d16d5cce0\n",
      "Successfully built picraft\n",
      "Installing collected packages: picraft\n",
      "Successfully installed picraft-1.0\n",
      "Note: you may need to restart the kernel to use updated packages.\n"
     ]
    }
   ],
   "source": [
    "pip install mcpi picraft"
   ]
  },
  {
   "cell_type": "code",
   "execution_count": 1,
   "metadata": {
    "ExecuteTime": {
     "end_time": "2021-01-28T15:14:27.886294Z",
     "start_time": "2021-01-28T15:14:27.881328Z"
    }
   },
   "outputs": [],
   "source": [
    "import mcpi.minecraft as minecraft\n",
    "import mcpi.block as block\n",
    "import mcpi.connection as connection\n",
    "from math import *"
   ]
  },
  {
   "cell_type": "code",
   "execution_count": 400,
   "metadata": {
    "ExecuteTime": {
     "end_time": "2021-01-29T00:02:08.016178Z",
     "start_time": "2021-01-29T00:02:07.970327Z"
    }
   },
   "outputs": [],
   "source": [
    "mc = minecraft.Minecraft.create(address=\"95.65.76.242\")"
   ]
  },
  {
   "cell_type": "code",
   "execution_count": 401,
   "metadata": {
    "ExecuteTime": {
     "end_time": "2021-01-29T00:02:08.174513Z",
     "start_time": "2021-01-29T00:02:08.172169Z"
    }
   },
   "outputs": [],
   "source": [
    "mc.postToChat(\"Test\")"
   ]
  },
  {
   "cell_type": "code",
   "execution_count": 402,
   "metadata": {
    "ExecuteTime": {
     "end_time": "2021-01-29T00:02:08.445274Z",
     "start_time": "2021-01-29T00:02:08.362403Z"
    }
   },
   "outputs": [
    {
     "data": {
      "text/plain": [
       "[317, 2076]"
      ]
     },
     "execution_count": 402,
     "metadata": {},
     "output_type": "execute_result"
    }
   ],
   "source": [
    "mc.getPlayerEntityIds()"
   ]
  },
  {
   "cell_type": "code",
   "execution_count": 403,
   "metadata": {
    "ExecuteTime": {
     "end_time": "2021-01-29T00:02:08.643774Z",
     "start_time": "2021-01-29T00:02:08.546452Z"
    }
   },
   "outputs": [
    {
     "data": {
      "text/plain": [
       "Vec3(87.97926268671822,87.90760399612606,20.311621152396956)"
      ]
     },
     "execution_count": 403,
     "metadata": {},
     "output_type": "execute_result"
    }
   ],
   "source": [
    "mc.player.getPos()"
   ]
  },
  {
   "cell_type": "code",
   "execution_count": 404,
   "metadata": {
    "ExecuteTime": {
     "end_time": "2021-01-29T00:02:08.902946Z",
     "start_time": "2021-01-29T00:02:08.900648Z"
    }
   },
   "outputs": [],
   "source": [
    "start_x = 0\n",
    "start_y = 0\n",
    "start_z = 0"
   ]
  },
  {
   "cell_type": "code",
   "execution_count": 405,
   "metadata": {
    "ExecuteTime": {
     "end_time": "2021-01-29T00:02:43.051946Z",
     "start_time": "2021-01-29T00:02:09.115420Z"
    }
   },
   "outputs": [],
   "source": [
    "#Clear field\n",
    "for x in range(100):\n",
    "    for y in range(-30,150):\n",
    "        for z in range(100):\n",
    "            mc.setBlock(start_x+x,start_y+y,start_z+z,0)"
   ]
  },
  {
   "cell_type": "code",
   "execution_count": 406,
   "metadata": {
    "ExecuteTime": {
     "end_time": "2021-01-29T00:02:43.584983Z",
     "start_time": "2021-01-29T00:02:43.083152Z"
    }
   },
   "outputs": [],
   "source": [
    "#Base\n",
    "for x in range(100):\n",
    "    for z in range(100):\n",
    "        mc.setBlock(start_x+x,-20,start_z+z,2)\n",
    "for x in range(90):\n",
    "    for z in range(90):\n",
    "        mc.setBlock(start_x+x+5,-19,start_z+z+5,0)\n",
    "        mc.setBlock(start_x+x+5,-19,start_z+z+5,1,6)"
   ]
  },
  {
   "cell_type": "code",
   "execution_count": 407,
   "metadata": {
    "ExecuteTime": {
     "end_time": "2021-01-29T00:02:44.306726Z",
     "start_time": "2021-01-29T00:02:43.615210Z"
    }
   },
   "outputs": [],
   "source": [
    "#Base TARDIS\n",
    "for x in range(60):\n",
    "    for z in range(60):\n",
    "        for y in range(3):\n",
    "            mc.setBlock(start_x+x+23,-18+y,start_z+z+23,0)\n",
    "            mc.setBlock(start_x+x+23,-18+y,start_z+z+23,35,11)\n",
    "            \n",
    "#Base TARDIS\n",
    "for x in range(58):\n",
    "    for z in range(58):\n",
    "        mc.setBlock(start_x+x+24,-15,start_z+z+24,0)\n",
    "        mc.setBlock(start_x+x+24,-15,start_z+z+24,35,11)\n",
    "        \n",
    "#Base TARDIS\n",
    "for x in range(56):\n",
    "    for z in range(56):\n",
    "        mc.setBlock(start_x+x+25,-14,start_z+z+25,0)\n",
    "        mc.setBlock(start_x+x+25,-14,start_z+z+25,35,11)"
   ]
  },
  {
   "cell_type": "code",
   "execution_count": 408,
   "metadata": {
    "ExecuteTime": {
     "end_time": "2021-01-29T00:02:44.394868Z",
     "start_time": "2021-01-29T00:02:44.335708Z"
    }
   },
   "outputs": [],
   "source": [
    "#4 columns\n",
    "for x in (0,54,55,1):\n",
    "    for z in (0,55,54,1):\n",
    "        for y in range(82):\n",
    "            mc.setBlock(start_x+x+25,-13+y,start_z+z+25,35,11)\n",
    "\n",
    "for x in (54,55,2,3):\n",
    "    for z in (54,55,2,3):\n",
    "        for y in range(82):\n",
    "            mc.setBlock(start_x+x+24,-13+y,start_z+z+24,35,11)"
   ]
  },
  {
   "cell_type": "code",
   "execution_count": 409,
   "metadata": {
    "ExecuteTime": {
     "end_time": "2021-01-29T00:02:48.650670Z",
     "start_time": "2021-01-29T00:02:44.428324Z"
    }
   },
   "outputs": [],
   "source": [
    "#insider\n",
    "for x in range(23,75):\n",
    "    for z in range(24,76):\n",
    "        for y in range(82):\n",
    "            mc.setBlock(start_x+4+x,-13+y,start_z+3+z,22)"
   ]
  },
  {
   "cell_type": "code",
   "execution_count": 410,
   "metadata": {
    "ExecuteTime": {
     "end_time": "2021-01-29T00:02:48.728958Z",
     "start_time": "2021-01-29T00:02:48.679226Z"
    }
   },
   "outputs": [],
   "source": [
    "#Medium columns\n",
    "for i in ( (25,25,26,26,54,53,55,52,0,1),(79,79,79,79,54,53,55,52,0,1),(52,53,51,54,25,25,26,26,1,0),(52,53,51,54,79,79,79,79,1,0) ):\n",
    "    for z in range(2):\n",
    "        for y in range(82):\n",
    "            mc.setBlock(start_x+i[4]+z*i[8],-13+y,start_z+i[0]+z*i[9],35,11)\n",
    "            mc.setBlock(start_x+i[5]+z*i[8],-13+y,start_z+i[1]+z*i[9],35,11)\n",
    "    for y in range(82):\n",
    "        mc.setBlock(start_x+i[6],-13+y,start_z+i[2],35,11)\n",
    "        mc.setBlock(start_x+i[7],-13+y,start_z+i[3],35,11)"
   ]
  },
  {
   "cell_type": "code",
   "execution_count": 411,
   "metadata": {
    "ExecuteTime": {
     "end_time": "2021-01-29T00:02:48.993820Z",
     "start_time": "2021-01-29T00:02:48.758754Z"
    }
   },
   "outputs": [],
   "source": [
    "#Crops\n",
    "for j in (78,27):\n",
    "    for i in (0,27):\n",
    "        for _y in (0,16+2,16*2+4,16*3+6):\n",
    "            for _z in range(19):\n",
    "                for y in range(16):\n",
    "                    mc.setBlock(start_x+j,-11+y+_y,start_z+30+i+_z,0)\n",
    "                    if y == 0 or y == 15 or _z == 0 or _z == 18:\n",
    "                        mc.setBlock(start_x+j,-11+y+_y,start_z+30+i+_z,49)\n",
    "for j in (78,27):\n",
    "    for i in (0,27):\n",
    "        for _y in (0,16+2,16*2+4,16*3+6):\n",
    "            for _z in range(19):\n",
    "                for y in range(16):\n",
    "                    mc.setBlock(start_x+i+31+_z,-11+y+_y,start_z-0+j,0)\n",
    "                    if y == 0 or y == 15 or _z == 0 or _z == 18:\n",
    "                        mc.setBlock(start_x+i+31+_z,-11+y+_y,start_z-0+j,49)"
   ]
  },
  {
   "cell_type": "code",
   "execution_count": 412,
   "metadata": {
    "ExecuteTime": {
     "end_time": "2021-01-29T00:02:49.075076Z",
     "start_time": "2021-01-29T00:02:49.023514Z"
    }
   },
   "outputs": [],
   "source": [
    "#Windows\n",
    "for j in (78,27):\n",
    "    for i in (0,27):\n",
    "        for _z in range(1,19-1):\n",
    "            for y in range(1,16-1):\n",
    "                mc.setBlock(start_x+j-1+2*(j%2),-11+y+16*3+6,start_z+30+i+_z,35)\n",
    "                if _z % 6 == 0 or y == 7:\n",
    "                    mc.setBlock(start_x+j,-11+y+16*3+6,start_z+30+i+_z,49)\n",
    "for j in (78,27):\n",
    "    for i in (0,27):\n",
    "        for _z in range(1,19-1):\n",
    "            for y in range(1,16-1):\n",
    "                mc.setBlock(start_x+i+31+_z,-11+y+16*3+6,start_z-1+j+2*(j%2),35)\n",
    "                if _z % 6 == 0 or y == 7:\n",
    "                    mc.setBlock(start_x+i+31+_z,-11+y+16*3+6,start_z+j,49)"
   ]
  },
  {
   "cell_type": "code",
   "execution_count": 413,
   "metadata": {
    "ExecuteTime": {
     "end_time": "2021-01-29T00:02:49.123196Z",
     "start_time": "2021-01-29T00:02:49.104089Z"
    }
   },
   "outputs": [],
   "source": [
    "#The Door\n",
    "for _z in range(2,17):\n",
    "    for y in range(2,14):\n",
    "        mc.setBlock(start_x+58+_z,-11+y+16*2+4,start_z+28,35)\n",
    "word_matrix = [[0,0,0,0,0,0,0,0,0,0,0,0,0,0,0],\n",
    "              [0,0,0,0,0,0,0,0,0,0,0,0,0,0,0],\n",
    "              [0,0,1,0,0,1,1,1,0,0,0,1,0,0,0],\n",
    "              [0,0,0,1,0,1,1,0,0,1,1,1,0,0,0],\n",
    "              [0,0,0,0,0,0,0,0,0,0,0,0,0,0,0],\n",
    "              [0,1,1,0,1,0,1,1,0,0,0,1,0,0,0],\n",
    "              [0,0,0,1,0,0,0,0,0,0,0,0,1,0,0],\n",
    "              [0,0,1,0,0,0,1,0,0,0,1,1,0,0,0],\n",
    "              [0,0,0,1,0,1,1,0,0,1,0,1,0,0,0],\n",
    "              [0,0,1,0,1,1,1,0,0,1,0,0,0,1,0],\n",
    "              [0,0,0,0,0,0,0,0,0,0,0,1,1,0,0],\n",
    "              [0,0,0,0,0,0,0,0,0,0,0,0,0,0,0]\n",
    "              ]\n",
    "for _z in range(2,15):\n",
    "    for y in range(2,12):\n",
    "        if word_matrix[y][_z]==1:\n",
    "            mc.setBlock(start_x+60+_z,-9+y+16*2+4,start_z+28,35,8)\n",
    "        \n",
    "for i in range(7):\n",
    "    mc.setBlock(start_x+50,33-i,start_z+26,35)\n",
    "    \n",
    "for i in (50,51):\n",
    "    for j in (14,15):\n",
    "        mc.setBlock(start_x+i,33-j,start_z+27,35,8)"
   ]
  },
  {
   "cell_type": "code",
   "execution_count": 414,
   "metadata": {
    "ExecuteTime": {
     "end_time": "2021-01-29T00:02:49.306588Z",
     "start_time": "2021-01-29T00:02:49.153593Z"
    }
   },
   "outputs": [],
   "source": [
    "#Table Matrix\n",
    "a = [[0 for i in range(48)] for _ in range(7)]\n",
    "for i in (2,3,7,10,14,15,16,19,20,22,23,24,31,32,36,39,41):\n",
    "    a[1][i] = 1\n",
    "for i in (2,4,6,8,10,15,18,22,31,33,35,37,39,41):\n",
    "    a[2][i] = 1\n",
    "for i in (2,3,6,8,10,15,18,22,23,24,31,32,35,37,40):\n",
    "    a[3][i] = 1\n",
    "for i in (2,6,8,10,15,18,22,31,33,35,37,39,41):\n",
    "    a[4][i] = 1\n",
    "for i in (2,7,10,11,12,14,15,16,19,20,22,23,24,31,32,36,39,41):\n",
    "    a[5][i] = 1\n",
    "\n",
    "#The top begin\n",
    "for _t in (0,53):\n",
    "    for i in range(52):\n",
    "        for j in range(11):\n",
    "            mc.setBlock(start_x+77-i,62+j,start_z+26+_t,35,11)   \n",
    "            if j>9:\n",
    "                continue\n",
    "            mc.setBlock(start_x+78-i,63+j,start_z+27+_t-2*(53-_t)/53,35,11)\n",
    "            if j>6 or i>47:\n",
    "                continue\n",
    "            if a[len(a)-j-1][i*(_t//53) + (len(a[j])-1-i)*((53-_t)//53) ] == 1:\n",
    "                mc.setBlock(start_x+76-i,64+j,start_z+24+57*(53-_t)/53,35)\n",
    "            else:\n",
    "                mc.setBlock(start_x+76-i,64+j,start_z+24+57*(53-_t)/53,35,15)\n",
    "for _t in (0,53):\n",
    "    for i in range(52):\n",
    "        for j in range(11):\n",
    "            mc.setBlock(start_x+79-_t,62+j,start_z+77-i,35,11)\n",
    "            if j>9:\n",
    "                continue\n",
    "            mc.setBlock(start_x+80-_t-2*(53-_t)/53,63+j,start_z+81-i,35,11)\n",
    "            if j>6 or i>47:\n",
    "                continue\n",
    "            if a[len(a)-j-1][i*(_t//53) + (len(a[j])-1-i)*((53-_t)//53) ] == 1:\n",
    "                mc.setBlock(start_x+80-55*(53-_t)/53,64+j,start_z+75-i,35)\n",
    "            else:\n",
    "                mc.setBlock(start_x+80-55*(53-_t)/53,64+j,start_z+75-i,35,15)"
   ]
  },
  {
   "cell_type": "code",
   "execution_count": 446,
   "metadata": {
    "ExecuteTime": {
     "end_time": "2021-01-29T00:10:16.695236Z",
     "start_time": "2021-01-29T00:10:16.303819Z"
    }
   },
   "outputs": [],
   "source": [
    "#Roof\n",
    "for y in range(3):\n",
    "    for x in range(52):\n",
    "        for z in range(54):\n",
    "            mc.setBlock(x+27,73+y,z+26,35,11)\n",
    "for y in range(4):\n",
    "    for x in range(1,51):\n",
    "        for z in range(1,53):\n",
    "            mc.setBlock(x+27,76+y,z+26,35,11)\n",
    "for y in range(4):\n",
    "    for x in range(1,51):\n",
    "        for z in range(1,53):\n",
    "            mc.setBlock(x+27,76+y,z+26,35,11)"
   ]
  },
  {
   "cell_type": "code",
   "execution_count": null,
   "metadata": {},
   "outputs": [],
   "source": []
  },
  {
   "cell_type": "code",
   "execution_count": 141,
   "metadata": {
    "ExecuteTime": {
     "end_time": "2021-01-28T18:52:06.721566Z",
     "start_time": "2021-01-28T18:52:06.662776Z"
    }
   },
   "outputs": [],
   "source": []
  },
  {
   "cell_type": "code",
   "execution_count": null,
   "metadata": {},
   "outputs": [],
   "source": []
  },
  {
   "cell_type": "code",
   "execution_count": null,
   "metadata": {},
   "outputs": [],
   "source": []
  }
 ],
 "metadata": {
  "kernelspec": {
   "display_name": "Python 3",
   "language": "python",
   "name": "python3"
  },
  "language_info": {
   "codemirror_mode": {
    "name": "ipython",
    "version": 3
   },
   "file_extension": ".py",
   "mimetype": "text/x-python",
   "name": "python",
   "nbconvert_exporter": "python",
   "pygments_lexer": "ipython3",
   "version": "3.7.6"
  },
  "varInspector": {
   "cols": {
    "lenName": 16,
    "lenType": 16,
    "lenVar": 40
   },
   "kernels_config": {
    "python": {
     "delete_cmd_postfix": "",
     "delete_cmd_prefix": "del ",
     "library": "var_list.py",
     "varRefreshCmd": "print(var_dic_list())"
    },
    "r": {
     "delete_cmd_postfix": ") ",
     "delete_cmd_prefix": "rm(",
     "library": "var_list.r",
     "varRefreshCmd": "cat(var_dic_list()) "
    }
   },
   "types_to_exclude": [
    "module",
    "function",
    "builtin_function_or_method",
    "instance",
    "_Feature"
   ],
   "window_display": false
  }
 },
 "nbformat": 4,
 "nbformat_minor": 4
}
