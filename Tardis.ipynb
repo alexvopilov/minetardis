{
 "cells": [
  {
   "cell_type": "code",
   "execution_count": 19,
   "metadata": {
    "ExecuteTime": {
     "end_time": "2021-01-06T23:50:27.681233Z",
     "start_time": "2021-01-06T23:50:23.916860Z"
    }
   },
   "outputs": [
    {
     "name": "stdout",
     "output_type": "stream",
     "text": [
      "Requirement already satisfied: mcpi in /home/tardis/anaconda3/lib/python3.7/site-packages (1.2.0)\n",
      "Collecting picraft\n",
      "  Downloading picraft-1.0.tar.gz (64 kB)\n",
      "\u001b[K     |████████████████████████████████| 64 kB 553 kB/s  eta 0:00:01\n",
      "\u001b[?25hBuilding wheels for collected packages: picraft\n",
      "  Building wheel for picraft (setup.py) ... \u001b[?25ldone\n",
      "\u001b[?25h  Created wheel for picraft: filename=picraft-1.0-py3-none-any.whl size=75856 sha256=621a993e797f74e00852b0dd541acddb518440c33954a3f12bf3762f98619077\n",
      "  Stored in directory: /home/tardis/.cache/pip/wheels/62/3d/47/1991acdd2e17b41d3e2506309c568a470848c2f04d16d5cce0\n",
      "Successfully built picraft\n",
      "Installing collected packages: picraft\n",
      "Successfully installed picraft-1.0\n",
      "Note: you may need to restart the kernel to use updated packages.\n"
     ]
    }
   ],
   "source": [
    "pip install mcpi picraft"
   ]
  },
  {
   "cell_type": "code",
   "execution_count": 27,
   "metadata": {
    "ExecuteTime": {
     "end_time": "2021-01-25T09:37:52.713160Z",
     "start_time": "2021-01-25T09:37:52.710306Z"
    }
   },
   "outputs": [],
   "source": [
    "import mcpi.minecraft as minecraft\n",
    "import mcpi.block as block\n",
    "import mcpi.connection as connection\n",
    "from math import *"
   ]
  },
  {
   "cell_type": "code",
   "execution_count": 28,
   "metadata": {
    "ExecuteTime": {
     "end_time": "2021-01-25T09:38:03.073114Z",
     "start_time": "2021-01-25T09:38:03.024053Z"
    }
   },
   "outputs": [],
   "source": [
   ]
  },
  {
   "cell_type": "code",
   "execution_count": 29,
   "metadata": {
    "ExecuteTime": {
     "end_time": "2021-01-25T09:38:04.697317Z",
     "start_time": "2021-01-25T09:38:04.695010Z"
    }
   },
   "outputs": [],
   "source": [
    "mc.postToChat(\"Test\")"
   ]
  },
  {
   "cell_type": "code",
   "execution_count": 30,
   "metadata": {
    "ExecuteTime": {
     "end_time": "2021-01-25T09:38:06.302709Z",
     "start_time": "2021-01-25T09:38:06.217707Z"
    }
   },
   "outputs": [
    {
     "data": {
      "text/plain": [
       "[317]"
      ]
     },
     "execution_count": 30,
     "metadata": {},
     "output_type": "execute_result"
    }
   ],
   "source": [
    "mc.getPlayerEntityIds()"
   ]
  },
  {
   "cell_type": "code",
   "execution_count": 31,
   "metadata": {
    "ExecuteTime": {
     "end_time": "2021-01-25T09:38:58.258193Z",
     "start_time": "2021-01-25T09:38:58.200308Z"
    }
   },
   "outputs": [
    {
     "data": {
      "text/plain": [
       "Vec3(-116.70942561349526,1.0,88.85683918067019)"
      ]
     },
     "execution_count": 31,
     "metadata": {},
     "output_type": "execute_result"
    }
   ],
   "source": [
    "mc.player.getPos()"
   ]
  },
  {
   "cell_type": "code",
   "execution_count": 36,
   "metadata": {
    "ExecuteTime": {
     "end_time": "2021-01-25T09:43:35.712834Z",
     "start_time": "2021-01-25T09:43:35.710152Z"
    }
   },
   "outputs": [],
   "source": [
    "start_x = -116\n",
    "start_y = 1\n",
    "start_z = 88"
   ]
  },
  {
   "cell_type": "code",
   "execution_count": 68,
   "metadata": {
    "ExecuteTime": {
     "end_time": "2021-01-25T10:44:30.021650Z",
     "start_time": "2021-01-25T10:44:07.723377Z"
    }
   },
   "outputs": [],
   "source": [
    "#Clear field\n",
    "for x in range(100):\n",
    "    for y in range(-20,100):\n",
    "        for z in range(100):\n",
    "            mc.setBlock(start_x+x,start_y+y,start_z+z,0)"
   ]
  },
  {
   "cell_type": "code",
   "execution_count": 69,
   "metadata": {
    "ExecuteTime": {
     "end_time": "2021-01-25T10:44:30.224699Z",
     "start_time": "2021-01-25T10:44:30.032173Z"
    }
   },
   "outputs": [],
   "source": [
    "#Base\n",
    "for x in range(100):\n",
    "    for z in range(100):\n",
    "        mc.setBlock(start_x+x,-20,start_z+z,2)"
   ]
  },
  {
   "cell_type": "code",
   "execution_count": 70,
   "metadata": {
    "ExecuteTime": {
     "end_time": "2021-01-25T10:44:30.404733Z",
     "start_time": "2021-01-25T10:44:30.234577Z"
    }
   },
   "outputs": [],
   "source": [
    "#Base\n",
    "for x in range(90):\n",
    "    for z in range(90):\n",
    "        mc.setBlock(start_x+x+5,-19,start_z+z+5,1,6)"
   ]
  },
  {
   "cell_type": "code",
   "execution_count": 77,
   "metadata": {
    "ExecuteTime": {
     "end_time": "2021-01-25T11:00:43.004726Z",
     "start_time": "2021-01-25T11:00:42.341542Z"
    }
   },
   "outputs": [],
   "source": [
    "#Base TARDIS\n",
    "for x in range(55):\n",
    "    for z in range(55):\n",
    "        for y in range(3):\n",
    "            mc.setBlock(start_x+x+22,-18+y,start_z+z+22,0)\n",
    "            mc.setBlock(start_x+x+22,-18+y,start_z+z+22,35,11)\n",
    "            \n",
    "#Base TARDIS\n",
    "for x in range(53):\n",
    "    for z in range(53):\n",
    "        mc.setBlock(start_x+x+23,-15,start_z+z+23,0)\n",
    "        mc.setBlock(start_x+x+23,-15,start_z+z+23,35,11)\n",
    "        \n",
    "#Base TARDIS\n",
    "for x in range(51):\n",
    "    for z in range(51):\n",
    "        mc.setBlock(start_x+x+24,-14,start_z+z+24,0)\n",
    "        mc.setBlock(start_x+x+24,-14,start_z+z+24,35,11)"
   ]
  },
  {
   "cell_type": "code",
   "execution_count": null,
   "metadata": {},
   "outputs": [],
   "source": []
  },
  {
   "cell_type": "code",
   "execution_count": null,
   "metadata": {},
   "outputs": [],
   "source": []
  },
  {
   "cell_type": "code",
   "execution_count": null,
   "metadata": {},
   "outputs": [],
   "source": []
  }
 ],
 "metadata": {
  "kernelspec": {
   "display_name": "Python 3",
   "language": "python",
   "name": "python3"
  },
  "language_info": {
   "codemirror_mode": {
    "name": "ipython",
    "version": 3
   },
   "file_extension": ".py",
   "mimetype": "text/x-python",
   "name": "python",
   "nbconvert_exporter": "python",
   "pygments_lexer": "ipython3",
   "version": "3.7.6"
  },
  "varInspector": {
   "cols": {
    "lenName": 16,
    "lenType": 16,
    "lenVar": 40
   },
   "kernels_config": {
    "python": {
     "delete_cmd_postfix": "",
     "delete_cmd_prefix": "del ",
     "library": "var_list.py",
     "varRefreshCmd": "print(var_dic_list())"
    },
    "r": {
     "delete_cmd_postfix": ") ",
     "delete_cmd_prefix": "rm(",
     "library": "var_list.r",
     "varRefreshCmd": "cat(var_dic_list()) "
    }
   },
   "types_to_exclude": [
    "module",
    "function",
    "builtin_function_or_method",
    "instance",
    "_Feature"
   ],
   "window_display": false
  }
 },
 "nbformat": 4,
 "nbformat_minor": 4
}
