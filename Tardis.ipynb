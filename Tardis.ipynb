{
 "cells": [
  {
   "cell_type": "code",
   "execution_count": null,
   "metadata": {},
   "outputs": [],
   "source": [
    "#pip install mcpi picraft"
   ]
  },
  {
   "cell_type": "code",
   "execution_count": null,
   "metadata": {},
   "outputs": [],
   "source": [
    "import mcpi.minecraft as minecraft\n",
    "import mcpi.block as block\n",
    "import mcpi.connection as connection\n",
    "from math import *"
   ]
  },
  {
   "cell_type": "code",
   "execution_count": 2,
   "metadata": {
    "ExecuteTime": {
     "end_time": "2021-01-29T00:15:09.697173Z",
     "start_time": "2021-01-29T00:15:09.650059Z"
    }
   },
   "outputs": [],
   "source": [
    "mc = minecraft.Minecraft.create(address=\"localhost\")"
   ]
  },
  {
   "cell_type": "code",
   "execution_count": 3,
   "metadata": {
    "ExecuteTime": {
     "end_time": "2021-01-29T00:15:10.281377Z",
     "start_time": "2021-01-29T00:15:10.278896Z"
    }
   },
   "outputs": [],
   "source": [
    "mc.postToChat(\"Test\")"
   ]
  },
  {
   "cell_type": "code",
   "execution_count": 4,
   "metadata": {
    "ExecuteTime": {
     "end_time": "2021-01-29T00:15:10.451588Z",
     "start_time": "2021-01-29T00:15:10.297660Z"
    }
   },
   "outputs": [
    {
     "data": {
      "text/plain": [
       "[297, 543]"
      ]
     },
     "execution_count": 4,
     "metadata": {},
     "output_type": "execute_result"
    }
   ],
   "source": [
    "mc.getPlayerEntityIds()"
   ]
  },
  {
   "cell_type": "code",
   "execution_count": 5,
   "metadata": {
    "ExecuteTime": {
     "end_time": "2021-01-29T00:15:10.945614Z",
     "start_time": "2021-01-29T00:15:10.876488Z"
    }
   },
   "outputs": [
    {
     "data": {
      "text/plain": [
       "Vec3(-10.588755308033592,-2.72052131598538,-103.34209137473114)"
      ]
     },
     "execution_count": 5,
     "metadata": {},
     "output_type": "execute_result"
    }
   ],
   "source": [
    "mc.player.getPos()"
   ]
  },
  {
   "cell_type": "code",
   "execution_count": 6,
   "metadata": {
    "ExecuteTime": {
     "end_time": "2021-01-29T00:15:11.223811Z",
     "start_time": "2021-01-29T00:15:11.221307Z"
    }
   },
   "outputs": [],
   "source": [
    "start_x = 0\n",
    "start_y = 0\n",
    "start_z = 0"
   ]
  },
  {
   "cell_type": "code",
   "execution_count": 7,
   "metadata": {
    "ExecuteTime": {
     "end_time": "2021-01-29T00:15:45.868287Z",
     "start_time": "2021-01-29T00:15:11.740305Z"
    }
   },
   "outputs": [],
   "source": [
    "#Clear field\n",
    "for x in range(100):\n",
    "    for y in range(-30,150):\n",
    "        for z in range(100):\n",
    "            mc.setBlock(start_x+x,start_y+y,start_z+z,0)"
   ]
  },
  {
   "cell_type": "code",
   "execution_count": 8,
   "metadata": {
    "ExecuteTime": {
     "end_time": "2021-01-29T00:15:46.430286Z",
     "start_time": "2021-01-29T00:15:45.911641Z"
    }
   },
   "outputs": [],
   "source": [
    "#Base\n",
    "for x in range(100):\n",
    "    for z in range(100):\n",
    "        mc.setBlock(start_x+x,-20,start_z+z,2)\n",
    "for x in range(90):\n",
    "    for z in range(90):\n",
    "        mc.setBlock(start_x+x+5,-19,start_z+z+5,0)\n",
    "        mc.setBlock(start_x+x+5,-19,start_z+z+5,1,6)"
   ]
  },
  {
   "cell_type": "code",
   "execution_count": 9,
   "metadata": {
    "ExecuteTime": {
     "end_time": "2021-01-29T00:15:47.172319Z",
     "start_time": "2021-01-29T00:15:46.472868Z"
    }
   },
   "outputs": [],
   "source": [
    "#Base TARDIS\n",
    "for x in range(60):\n",
    "    for z in range(60):\n",
    "        for y in range(3):\n",
    "            mc.setBlock(start_x+x+23,-18+y,start_z+z+23,0)\n",
    "            mc.setBlock(start_x+x+23,-18+y,start_z+z+23,35,11)\n",
    "            \n",
    "#Base TARDIS\n",
    "for x in range(58):\n",
    "    for z in range(58):\n",
    "        mc.setBlock(start_x+x+24,-15,start_z+z+24,0)\n",
    "        mc.setBlock(start_x+x+24,-15,start_z+z+24,35,11)\n",
    "        \n",
    "#Base TARDIS\n",
    "for x in range(56):\n",
    "    for z in range(56):\n",
    "        mc.setBlock(start_x+x+25,-14,start_z+z+25,0)\n",
    "        mc.setBlock(start_x+x+25,-14,start_z+z+25,35,11)"
   ]
  },
  {
   "cell_type": "code",
   "execution_count": 10,
   "metadata": {
    "ExecuteTime": {
     "end_time": "2021-01-29T00:15:47.279728Z",
     "start_time": "2021-01-29T00:15:47.218352Z"
    }
   },
   "outputs": [],
   "source": [
    "#4 columns\n",
    "for x in (0,54,55,1):\n",
    "    for z in (0,55,54,1):\n",
    "        for y in range(82):\n",
    "            mc.setBlock(start_x+x+25,-13+y,start_z+z+25,35,11)\n",
    "\n",
    "for x in (54,55,2,3):\n",
    "    for z in (54,55,2,3):\n",
    "        for y in range(82):\n",
    "            mc.setBlock(start_x+x+24,-13+y,start_z+z+24,35,11)"
   ]
  },
  {
   "cell_type": "code",
   "execution_count": 11,
   "metadata": {
    "ExecuteTime": {
     "end_time": "2021-01-29T00:15:51.550729Z",
     "start_time": "2021-01-29T00:15:47.335520Z"
    }
   },
   "outputs": [],
   "source": [
    "#insider\n",
    "for x in range(23,75):\n",
    "    for z in range(24,76):\n",
    "        for y in range(82):\n",
    "            mc.setBlock(start_x+4+x,-13+y,start_z+3+z,22)"
   ]
  },
  {
   "cell_type": "code",
   "execution_count": 12,
   "metadata": {
    "ExecuteTime": {
     "end_time": "2021-01-29T00:15:51.645041Z",
     "start_time": "2021-01-29T00:15:51.594100Z"
    }
   },
   "outputs": [],
   "source": [
    "#Medium columns\n",
    "for i in ( (25,25,26,26,54,53,55,52,0,1),(79,79,79,79,54,53,55,52,0,1),(52,53,51,54,25,25,26,26,1,0),(52,53,51,54,79,79,79,79,1,0) ):\n",
    "    for z in range(2):\n",
    "        for y in range(82):\n",
    "            mc.setBlock(start_x+i[4]+z*i[8],-13+y,start_z+i[0]+z*i[9],35,11)\n",
    "            mc.setBlock(start_x+i[5]+z*i[8],-13+y,start_z+i[1]+z*i[9],35,11)\n",
    "    for y in range(82):\n",
    "        mc.setBlock(start_x+i[6],-13+y,start_z+i[2],35,11)\n",
    "        mc.setBlock(start_x+i[7],-13+y,start_z+i[3],35,11)"
   ]
  },
  {
   "cell_type": "code",
   "execution_count": 13,
   "metadata": {
    "ExecuteTime": {
     "end_time": "2021-01-29T00:15:51.939908Z",
     "start_time": "2021-01-29T00:15:51.701364Z"
    }
   },
   "outputs": [],
   "source": [
    "#Crops\n",
    "for j in (78,27):\n",
    "    for i in (0,27):\n",
    "        for _y in (0,16+2,16*2+4,16*3+6):\n",
    "            for _z in range(19):\n",
    "                for y in range(16):\n",
    "                    mc.setBlock(start_x+j,-11+y+_y,start_z+30+i+_z,0)\n",
    "                    if y == 0 or y == 15 or _z == 0 or _z == 18:\n",
    "                        mc.setBlock(start_x+j,-11+y+_y,start_z+30+i+_z,49)\n",
    "for j in (78,27):\n",
    "    for i in (0,27):\n",
    "        for _y in (0,16+2,16*2+4,16*3+6):\n",
    "            for _z in range(19):\n",
    "                for y in range(16):\n",
    "                    mc.setBlock(start_x+i+31+_z,-11+y+_y,start_z-0+j,0)\n",
    "                    if y == 0 or y == 15 or _z == 0 or _z == 18:\n",
    "                        mc.setBlock(start_x+i+31+_z,-11+y+_y,start_z-0+j,49)"
   ]
  },
  {
   "cell_type": "code",
   "execution_count": 14,
   "metadata": {
    "ExecuteTime": {
     "end_time": "2021-01-29T00:15:52.055303Z",
     "start_time": "2021-01-29T00:15:52.000991Z"
    }
   },
   "outputs": [],
   "source": [
    "#Windows\n",
    "for j in (78,27):\n",
    "    for i in (0,27):\n",
    "        for _z in range(1,19-1):\n",
    "            for y in range(1,16-1):\n",
    "                mc.setBlock(start_x+j-1+2*(j%2),-11+y+16*3+6,start_z+30+i+_z,35)\n",
    "                if _z % 6 == 0 or y == 7:\n",
    "                    mc.setBlock(start_x+j,-11+y+16*3+6,start_z+30+i+_z,49)\n",
    "for j in (78,27):\n",
    "    for i in (0,27):\n",
    "        for _z in range(1,19-1):\n",
    "            for y in range(1,16-1):\n",
    "                mc.setBlock(start_x+i+31+_z,-11+y+16*3+6,start_z-1+j+2*(j%2),35)\n",
    "                if _z % 6 == 0 or y == 7:\n",
    "                    mc.setBlock(start_x+i+31+_z,-11+y+16*3+6,start_z+j,49)"
   ]
  },
  {
   "cell_type": "code",
   "execution_count": 15,
   "metadata": {
    "ExecuteTime": {
     "end_time": "2021-01-29T00:15:52.132496Z",
     "start_time": "2021-01-29T00:15:52.111165Z"
    }
   },
   "outputs": [],
   "source": [
    "#The Door\n",
    "for _z in range(2,17):\n",
    "    for y in range(2,14):\n",
    "        mc.setBlock(start_x+58+_z,-11+y+16*2+4,start_z+28,35)\n",
    "word_matrix = [[0,0,0,0,0,0,0,0,0,0,0,0,0,0,0],\n",
    "              [0,0,0,0,0,0,0,0,0,0,0,0,0,0,0],\n",
    "              [0,0,1,0,0,1,1,1,0,0,0,1,0,0,0],\n",
    "              [0,0,0,1,0,1,1,0,0,1,1,1,0,0,0],\n",
    "              [0,0,0,0,0,0,0,0,0,0,0,0,0,0,0],\n",
    "              [0,1,1,0,1,0,1,1,0,0,0,1,0,0,0],\n",
    "              [0,0,0,1,0,0,0,0,0,0,0,0,1,0,0],\n",
    "              [0,0,1,0,0,0,1,0,0,0,1,1,0,0,0],\n",
    "              [0,0,0,1,0,1,1,0,0,1,0,1,0,0,0],\n",
    "              [0,0,1,0,1,1,1,0,0,1,0,0,0,1,0],\n",
    "              [0,0,0,0,0,0,0,0,0,0,0,1,1,0,0],\n",
    "              [0,0,0,0,0,0,0,0,0,0,0,0,0,0,0]\n",
    "              ]\n",
    "for _z in range(2,15):\n",
    "    for y in range(2,12):\n",
    "        if word_matrix[y][_z]==1:\n",
    "            mc.setBlock(start_x+60+_z,-9+y+16*2+4,start_z+28,35,8)\n",
    "        \n",
    "for i in range(7):\n",
    "    mc.setBlock(start_x+50,33-i,start_z+26,35)\n",
    "    \n",
    "for i in (50,51):\n",
    "    for j in (14,15):\n",
    "        mc.setBlock(start_x+i,33-j,start_z+27,35,8)"
   ]
  },
  {
   "cell_type": "code",
   "execution_count": 16,
   "metadata": {
    "ExecuteTime": {
     "end_time": "2021-01-29T00:15:52.335538Z",
     "start_time": "2021-01-29T00:15:52.189191Z"
    }
   },
   "outputs": [],
   "source": [
    "#Table Matrix\n",
    "a = [[0 for i in range(48)] for _ in range(7)]\n",
    "for i in (2,3,7,10,14,15,16,19,20,22,23,24,31,32,36,39,41):\n",
    "    a[1][i] = 1\n",
    "for i in (2,4,6,8,10,15,18,22,31,33,35,37,39,41):\n",
    "    a[2][i] = 1\n",
    "for i in (2,3,6,8,10,15,18,22,23,24,31,32,35,37,40):\n",
    "    a[3][i] = 1\n",
    "for i in (2,6,8,10,15,18,22,31,33,35,37,39,41):\n",
    "    a[4][i] = 1\n",
    "for i in (2,7,10,11,12,14,15,16,19,20,22,23,24,31,32,36,39,41):\n",
    "    a[5][i] = 1\n",
    "\n",
    "#The top begin\n",
    "for _t in (0,53):\n",
    "    for i in range(52):\n",
    "        for j in range(11):\n",
    "            mc.setBlock(start_x+77-i,62+j,start_z+26+_t,35,11)   \n",
    "            if j>9:\n",
    "                continue\n",
    "            mc.setBlock(start_x+78-i,63+j,start_z+27+_t-2*(53-_t)/53,35,11)\n",
    "            if j>6 or i>47:\n",
    "                continue\n",
    "            if a[len(a)-j-1][i*(_t//53) + (len(a[j])-1-i)*((53-_t)//53) ] == 1:\n",
    "                mc.setBlock(start_x+76-i,64+j,start_z+24+57*(53-_t)/53,35)\n",
    "            else:\n",
    "                mc.setBlock(start_x+76-i,64+j,start_z+24+57*(53-_t)/53,35,15)\n",
    "for _t in (0,53):\n",
    "    for i in range(52):\n",
    "        for j in range(11):\n",
    "            mc.setBlock(start_x+79-_t,62+j,start_z+77-i,35,11)\n",
    "            if j>9:\n",
    "                continue\n",
    "            mc.setBlock(start_x+80-_t-2*(53-_t)/53,63+j,start_z+81-i,35,11)\n",
    "            if j>6 or i>47:\n",
    "                continue\n",
    "            if a[len(a)-j-1][i*(_t//53) + (len(a[j])-1-i)*((53-_t)//53) ] == 1:\n",
    "                mc.setBlock(start_x+80-55*(53-_t)/53,64+j,start_z+75-i,35)\n",
    "            else:\n",
    "                mc.setBlock(start_x+80-55*(53-_t)/53,64+j,start_z+75-i,35,15)"
   ]
  },
  {
   "cell_type": "code",
   "execution_count": 72,
   "metadata": {
    "ExecuteTime": {
     "end_time": "2021-01-29T00:38:17.283094Z",
     "start_time": "2021-01-29T00:38:16.637998Z"
    }
   },
   "outputs": [],
   "source": [
    "#Roof\n",
    "for y in range(3):\n",
    "    for x in range(52):\n",
    "        for z in range(54):\n",
    "            mc.setBlock(x+27,73+y,z+26,35,11)\n",
    "for y in range(4):\n",
    "    for x in range(1,51):\n",
    "        for z in range(1,53):\n",
    "            mc.setBlock(x+27,76+y,z+26,35,11)\n",
    "for y in range(6):\n",
    "    for x in range(3+y,51-y):\n",
    "        for z in range(2+y,53-y-1):\n",
    "            if x==z or x ==y or z==y or x==z-1 or x ==y-1 or z==y-1 or x==z+1 or x ==y+1 or z==y+1 \\\n",
    "                or x==53-z or x ==53-y or z==53-y or x==53-z-1 or x ==53-y-1 or z==53-y-1 or x==53-z+1 or x ==53-y+1 or z==53-y+1:\n",
    "                mc.setBlock(x+26,80+y,z+26,35,11)\n",
    "            else:\n",
    "                mc.setBlock(x+26,80+y,z+26,22)"
   ]
  },
  {
   "cell_type": "code",
   "execution_count": 93,
   "metadata": {
    "ExecuteTime": {
     "end_time": "2021-01-29T00:43:01.419658Z",
     "start_time": "2021-01-29T00:43:01.405192Z"
    }
   },
   "outputs": [],
   "source": [
    "#The lamp\n",
    "for y in range(4):\n",
    "    for x in range(8):\n",
    "        for z in range(8):\n",
    "            mc.setBlock(49+x,86+y,49+z,35,11)\n",
    "            \n",
    "for y in range(9):\n",
    "    for x in range(4):\n",
    "        for z in range(4):\n",
    "            if y ==0 or y>6:\n",
    "                mc.setBlock(51+x,90+y,51+z,35,11)\n",
    "            elif x == 0 or z == 0 or x==3 or z==3:\n",
    "                mc.setBlock(51+x,90+y,51+z,20)\n",
    "            else:\n",
    "                mc.setBlock(51+x,90+y,51+z,138)"
   ]
  },
  {
   "cell_type": "code",
   "execution_count": null,
   "metadata": {},
   "outputs": [],
   "source": []
  },
  {
   "cell_type": "code",
   "execution_count": null,
   "metadata": {},
   "outputs": [],
   "source": []
  },
  {
   "cell_type": "code",
   "execution_count": null,
   "metadata": {},
   "outputs": [],
   "source": []
  }
 ],
 "metadata": {
  "kernelspec": {
   "display_name": "Python 3",
   "language": "python",
   "name": "python3"
  },
  "language_info": {
   "codemirror_mode": {
    "name": "ipython",
    "version": 3
   },
   "file_extension": ".py",
   "mimetype": "text/x-python",
   "name": "python",
   "nbconvert_exporter": "python",
   "pygments_lexer": "ipython3",
   "version": "3.7.6"
  },
  "varInspector": {
   "cols": {
    "lenName": 16,
    "lenType": 16,
    "lenVar": 40
   },
   "kernels_config": {
    "python": {
     "delete_cmd_postfix": "",
     "delete_cmd_prefix": "del ",
     "library": "var_list.py",
     "varRefreshCmd": "print(var_dic_list())"
    },
    "r": {
     "delete_cmd_postfix": ") ",
     "delete_cmd_prefix": "rm(",
     "library": "var_list.r",
     "varRefreshCmd": "cat(var_dic_list()) "
    }
   },
   "types_to_exclude": [
    "module",
    "function",
    "builtin_function_or_method",
    "instance",
    "_Feature"
   ],
   "window_display": false
  }
 },
 "nbformat": 4,
 "nbformat_minor": 4
}
