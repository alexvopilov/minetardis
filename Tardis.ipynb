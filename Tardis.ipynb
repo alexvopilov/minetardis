{
 "cells": [
  {
   "cell_type": "code",
   "execution_count": 19,
   "metadata": {
    "ExecuteTime": {
     "end_time": "2021-01-06T23:50:27.681233Z",
     "start_time": "2021-01-06T23:50:23.916860Z"
    }
   },
   "outputs": [
    {
     "name": "stdout",
     "output_type": "stream",
     "text": [
      "Requirement already satisfied: mcpi in /home/tardis/anaconda3/lib/python3.7/site-packages (1.2.0)\n",
      "Collecting picraft\n",
      "  Downloading picraft-1.0.tar.gz (64 kB)\n",
      "\u001b[K     |████████████████████████████████| 64 kB 553 kB/s  eta 0:00:01\n",
      "\u001b[?25hBuilding wheels for collected packages: picraft\n",
      "  Building wheel for picraft (setup.py) ... \u001b[?25ldone\n",
      "\u001b[?25h  Created wheel for picraft: filename=picraft-1.0-py3-none-any.whl size=75856 sha256=621a993e797f74e00852b0dd541acddb518440c33954a3f12bf3762f98619077\n",
      "  Stored in directory: /home/tardis/.cache/pip/wheels/62/3d/47/1991acdd2e17b41d3e2506309c568a470848c2f04d16d5cce0\n",
      "Successfully built picraft\n",
      "Installing collected packages: picraft\n",
      "Successfully installed picraft-1.0\n",
      "Note: you may need to restart the kernel to use updated packages.\n"
     ]
    }
   ],
   "source": [
    "pip install mcpi picraft"
   ]
  },
  {
   "cell_type": "code",
   "execution_count": 187,
   "metadata": {
    "ExecuteTime": {
     "end_time": "2021-01-27T23:52:09.449139Z",
     "start_time": "2021-01-27T23:52:09.446383Z"
    }
   },
   "outputs": [],
   "source": [
    "import mcpi.minecraft as minecraft\n",
    "import mcpi.block as block\n",
    "import mcpi.connection as connection\n",
    "from math import *"
   ]
  },
  {
   "cell_type": "code",
   "execution_count": 188,
   "metadata": {
    "ExecuteTime": {
     "end_time": "2021-01-27T23:52:09.675771Z",
     "start_time": "2021-01-27T23:52:09.629860Z"
    }
   },
   "outputs": [],
   "source": [
    "mc = minecraft.Minecraft.create(address=\"95.65.76.242\")"
   ]
  },
  {
   "cell_type": "code",
   "execution_count": 189,
   "metadata": {
    "ExecuteTime": {
     "end_time": "2021-01-27T23:52:09.768272Z",
     "start_time": "2021-01-27T23:52:09.765704Z"
    }
   },
   "outputs": [],
   "source": [
    "mc.postToChat(\"Test\")"
   ]
  },
  {
   "cell_type": "code",
   "execution_count": 190,
   "metadata": {
    "ExecuteTime": {
     "end_time": "2021-01-27T23:52:09.907556Z",
     "start_time": "2021-01-27T23:52:09.845451Z"
    }
   },
   "outputs": [
    {
     "data": {
      "text/plain": [
       "[174]"
      ]
     },
     "execution_count": 190,
     "metadata": {},
     "output_type": "execute_result"
    }
   ],
   "source": [
    "mc.getPlayerEntityIds()"
   ]
  },
  {
   "cell_type": "code",
   "execution_count": 191,
   "metadata": {
    "ExecuteTime": {
     "end_time": "2021-01-27T23:52:10.056245Z",
     "start_time": "2021-01-27T23:52:09.963617Z"
    }
   },
   "outputs": [
    {
     "data": {
      "text/plain": [
       "Vec3(30.409584843815892,40.25352347689099,-9.98277695873577)"
      ]
     },
     "execution_count": 191,
     "metadata": {},
     "output_type": "execute_result"
    }
   ],
   "source": [
    "mc.player.getPos()"
   ]
  },
  {
   "cell_type": "code",
   "execution_count": 192,
   "metadata": {
    "ExecuteTime": {
     "end_time": "2021-01-27T23:52:10.069436Z",
     "start_time": "2021-01-27T23:52:10.067239Z"
    }
   },
   "outputs": [],
   "source": [
    "start_x = 0\n",
    "start_y = 0\n",
    "start_z = 0"
   ]
  },
  {
   "cell_type": "code",
   "execution_count": 193,
   "metadata": {
    "ExecuteTime": {
     "end_time": "2021-01-27T23:52:32.693353Z",
     "start_time": "2021-01-27T23:52:10.160104Z"
    }
   },
   "outputs": [],
   "source": [
    "#Clear field\n",
    "for x in range(100):\n",
    "    for y in range(-20,100):\n",
    "        for z in range(100):\n",
    "            mc.setBlock(start_x+x,start_y+y,start_z+z,0)"
   ]
  },
  {
   "cell_type": "code",
   "execution_count": 194,
   "metadata": {
    "ExecuteTime": {
     "end_time": "2021-01-27T23:52:33.213642Z",
     "start_time": "2021-01-27T23:52:32.704866Z"
    }
   },
   "outputs": [],
   "source": [
    "#Base\n",
    "for x in range(100):\n",
    "    for z in range(100):\n",
    "        mc.setBlock(start_x+x,-20,start_z+z,2)\n",
    "for x in range(90):\n",
    "    for z in range(90):\n",
    "        mc.setBlock(start_x+x+5,-19,start_z+z+5,0)\n",
    "        mc.setBlock(start_x+x+5,-19,start_z+z+5,1,6)"
   ]
  },
  {
   "cell_type": "code",
   "execution_count": 195,
   "metadata": {
    "ExecuteTime": {
     "end_time": "2021-01-27T23:52:33.911478Z",
     "start_time": "2021-01-27T23:52:33.214942Z"
    }
   },
   "outputs": [],
   "source": [
    "#Base TARDIS\n",
    "for x in range(60):\n",
    "    for z in range(60):\n",
    "        for y in range(3):\n",
    "            mc.setBlock(start_x+x+23,-18+y,start_z+z+23,0)\n",
    "            mc.setBlock(start_x+x+23,-18+y,start_z+z+23,35,11)\n",
    "            \n",
    "#Base TARDIS\n",
    "for x in range(58):\n",
    "    for z in range(58):\n",
    "        mc.setBlock(start_x+x+24,-15,start_z+z+24,0)\n",
    "        mc.setBlock(start_x+x+24,-15,start_z+z+24,35,11)\n",
    "        \n",
    "#Base TARDIS\n",
    "for x in range(56):\n",
    "    for z in range(56):\n",
    "        mc.setBlock(start_x+x+25,-14,start_z+z+25,0)\n",
    "        mc.setBlock(start_x+x+25,-14,start_z+z+25,35,11)"
   ]
  },
  {
   "cell_type": "code",
   "execution_count": 196,
   "metadata": {
    "ExecuteTime": {
     "end_time": "2021-01-27T23:52:33.997289Z",
     "start_time": "2021-01-27T23:52:33.932783Z"
    }
   },
   "outputs": [],
   "source": [
    "#4 columns\n",
    "for x in (0,54,55,1):\n",
    "    for z in (0,55,54,1):\n",
    "        for y in range(82):\n",
    "            mc.setBlock(start_x+x+25,-13+y,start_z+z+25,35,11)\n",
    "\n",
    "for x in (54,55,2,3):\n",
    "    for z in (54,55,2,3):\n",
    "        for y in range(82):\n",
    "            mc.setBlock(start_x+x+24,-13+y,start_z+z+24,35,11)"
   ]
  },
  {
   "cell_type": "code",
   "execution_count": 197,
   "metadata": {
    "ExecuteTime": {
     "end_time": "2021-01-27T23:52:38.274851Z",
     "start_time": "2021-01-27T23:52:33.998594Z"
    }
   },
   "outputs": [],
   "source": [
    "#insider\n",
    "for x in range(23,75):\n",
    "    for z in range(24,76):\n",
    "        for y in range(82):\n",
    "            mc.setBlock(start_x+4+x,-13+y,start_z+3+z,22)"
   ]
  },
  {
   "cell_type": "code",
   "execution_count": 198,
   "metadata": {
    "ExecuteTime": {
     "end_time": "2021-01-27T23:52:38.352856Z",
     "start_time": "2021-01-27T23:52:38.300264Z"
    }
   },
   "outputs": [],
   "source": [
    "#Medium columns\n",
    "for i in ( (25,25,26,26,54,53,55,52,0,1),(79,79,79,79,54,53,55,52,0,1),(52,53,51,54,25,25,26,26,1,0),(52,53,51,54,79,79,79,79,1,0) ):\n",
    "    for z in range(2):\n",
    "        for y in range(82):\n",
    "            mc.setBlock(start_x+i[4]+z*i[8],-13+y,start_z+i[0]+z*i[9],35,11)\n",
    "            mc.setBlock(start_x+i[5]+z*i[8],-13+y,start_z+i[1]+z*i[9],35,11)\n",
    "    for y in range(82):\n",
    "        mc.setBlock(start_x+i[6],-13+y,start_z+i[2],35,11)\n",
    "        mc.setBlock(start_x+i[7],-13+y,start_z+i[3],35,11)"
   ]
  },
  {
   "cell_type": "code",
   "execution_count": 199,
   "metadata": {
    "ExecuteTime": {
     "end_time": "2021-01-27T23:52:38.605327Z",
     "start_time": "2021-01-27T23:52:38.366524Z"
    }
   },
   "outputs": [],
   "source": [
    "#Crops\n",
    "for j in (78,27):\n",
    "    for i in (0,27):\n",
    "        for _y in (0,16+2,16*2+4,16*3+6):\n",
    "            for _z in range(19):\n",
    "                for y in range(16):\n",
    "                    mc.setBlock(start_x+j,-11+y+_y,start_z+30+i+_z,0)\n",
    "                    if y == 0 or y == 15 or _z == 0 or _z == 18:\n",
    "                        mc.setBlock(start_x+j,-11+y+_y,start_z+30+i+_z,49)\n",
    "for j in (78,27):\n",
    "    for i in (0,27):\n",
    "        for _y in (0,16+2,16*2+4,16*3+6):\n",
    "            for _z in range(19):\n",
    "                for y in range(16):\n",
    "                    mc.setBlock(start_x+i+31+_z,-11+y+_y,start_z-0+j,0)\n",
    "                    if y == 0 or y == 15 or _z == 0 or _z == 18:\n",
    "                        mc.setBlock(start_x+i+31+_z,-11+y+_y,start_z-0+j,49)"
   ]
  },
  {
   "cell_type": "code",
   "execution_count": 200,
   "metadata": {
    "ExecuteTime": {
     "end_time": "2021-01-27T23:52:38.669159Z",
     "start_time": "2021-01-27T23:52:38.616184Z"
    }
   },
   "outputs": [],
   "source": [
    "#Windows\n",
    "for j in (78,27):\n",
    "    for i in (0,27):\n",
    "        for _z in range(1,19-1):\n",
    "            for y in range(1,16-1):\n",
    "                mc.setBlock(start_x+j-1+2*(j%2),-11+y+16*3+6,start_z+30+i+_z,35)\n",
    "                if _z % 6 == 0 or y == 7:\n",
    "                    mc.setBlock(start_x+j,-11+y+16*3+6,start_z+30+i+_z,35,11)\n",
    "for j in (78,27):\n",
    "    for i in (0,27):\n",
    "        for _z in range(1,19-1):\n",
    "            for y in range(1,16-1):\n",
    "                mc.setBlock(start_x+i+31+_z,-11+y+16*3+6,start_z-1+j+2*(j%2),35)\n",
    "                if _z % 6 == 0 or y == 7:\n",
    "                    mc.setBlock(start_x+i+31+_z,-11+y+16*3+6,start_z+j,35,11)"
   ]
  },
  {
   "cell_type": "code",
   "execution_count": 201,
   "metadata": {
    "ExecuteTime": {
     "end_time": "2021-01-27T23:52:38.701937Z",
     "start_time": "2021-01-27T23:52:38.681001Z"
    }
   },
   "outputs": [],
   "source": [
    "#The Door\n",
    "for _z in range(2,17):\n",
    "    for y in range(2,14):\n",
    "        mc.setBlock(start_x+58+_z,-11+y+16*2+4,start_z+28,35)\n",
    "word_matrix = [[0,0,0,0,0,0,0,0,0,0,0,0,0,0,0],\n",
    "              [0,0,0,0,0,0,0,0,0,0,0,0,0,0,0],\n",
    "              [0,0,1,0,0,1,1,1,0,0,0,1,0,0,0],\n",
    "              [0,0,0,1,0,1,1,0,0,1,1,1,0,0,0],\n",
    "              [0,0,0,0,0,0,0,0,0,0,0,0,0,0,0],\n",
    "              [0,1,1,0,1,0,1,1,0,0,0,1,0,0,0],\n",
    "              [0,0,0,1,0,0,0,0,0,0,0,0,1,0,0],\n",
    "              [0,0,1,0,0,0,1,0,0,0,1,1,0,0,0],\n",
    "              [0,0,0,1,0,1,1,0,0,1,0,1,0,0,0],\n",
    "              [0,0,1,0,1,1,1,0,0,1,0,0,0,1,0],\n",
    "              [0,0,0,0,0,0,0,0,0,0,0,1,1,0,0],\n",
    "              [0,0,0,0,0,0,0,0,0,0,0,0,0,0,0]\n",
    "              ]\n",
    "for _z in range(2,15):\n",
    "    for y in range(2,12):\n",
    "        if word_matrix[y][_z]==1:\n",
    "            mc.setBlock(start_x+60+_z,-9+y+16*2+4,start_z+28,35,8)\n",
    "        \n",
    "for i in range(7):\n",
    "    mc.setBlock(start_x+50,33-i,start_z+26,35)\n",
    "    \n",
    "mc.setBlock(start_x+50,33-14,start_z+27,35,8)\n",
    "mc.setBlock(start_x+51,33-14,start_z+27,35,8)\n",
    "mc.setBlock(start_x+50,33-15,start_z+27,35,8)\n",
    "mc.setBlock(start_x+51,33-15,start_z+27,35,8)"
   ]
  }
 ],
 "metadata": {
  "kernelspec": {
   "display_name": "Python 3",
   "language": "python",
   "name": "python3"
  },
  "language_info": {
   "codemirror_mode": {
    "name": "ipython",
    "version": 3
   },
   "file_extension": ".py",
   "mimetype": "text/x-python",
   "name": "python",
   "nbconvert_exporter": "python",
   "pygments_lexer": "ipython3",
   "version": "3.7.6"
  },
  "varInspector": {
   "cols": {
    "lenName": 16,
    "lenType": 16,
    "lenVar": 40
   },
   "kernels_config": {
    "python": {
     "delete_cmd_postfix": "",
     "delete_cmd_prefix": "del ",
     "library": "var_list.py",
     "varRefreshCmd": "print(var_dic_list())"
    },
    "r": {
     "delete_cmd_postfix": ") ",
     "delete_cmd_prefix": "rm(",
     "library": "var_list.r",
     "varRefreshCmd": "cat(var_dic_list()) "
    }
   },
   "types_to_exclude": [
    "module",
    "function",
    "builtin_function_or_method",
    "instance",
    "_Feature"
   ],
   "window_display": false
  }
 },
 "nbformat": 4,
 "nbformat_minor": 4
}
